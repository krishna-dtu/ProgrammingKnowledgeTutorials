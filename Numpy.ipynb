{
 "cells": [
  {
   "cell_type": "markdown",
   "id": "cb98b771-6bda-4851-935f-f6a99a3dcec7",
   "metadata": {},
   "source": [
    "# Welcome to Numpy Tutorial"
   ]
  },
  {
   "cell_type": "code",
   "execution_count": 1,
   "id": "e43996f8-8bdb-43f7-a14f-260d4636ef87",
   "metadata": {},
   "outputs": [],
   "source": [
    "import numpy as np\n"
   ]
  },
  {
   "cell_type": "code",
   "execution_count": 2,
   "id": "4fa3df6f-e6db-4e4d-b610-7a71059a2418",
   "metadata": {},
   "outputs": [],
   "source": [
    "myarr=np.array([12,3,5,6] , np.int8)"
   ]
  },
  {
   "cell_type": "code",
   "execution_count": 3,
   "id": "1b791fd2-0aec-49d7-9fef-ca8003869c25",
   "metadata": {},
   "outputs": [
    {
     "data": {
      "text/plain": [
       "np.int8(12)"
      ]
     },
     "execution_count": 3,
     "metadata": {},
     "output_type": "execute_result"
    }
   ],
   "source": [
    "myarr[0]\n",
    "\n"
   ]
  },
  {
   "cell_type": "code",
   "execution_count": 4,
   "id": "610b7dbd-aeeb-4f8c-b522-9d7e0f802546",
   "metadata": {},
   "outputs": [
    {
     "data": {
      "text/plain": [
       "(4,)"
      ]
     },
     "execution_count": 4,
     "metadata": {},
     "output_type": "execute_result"
    }
   ],
   "source": [
    "myarr.shape"
   ]
  },
  {
   "cell_type": "code",
   "execution_count": 5,
   "id": "ea964d12-fcea-4974-ac31-8c4f2ce256f8",
   "metadata": {},
   "outputs": [
    {
     "data": {
      "text/plain": [
       "dtype('int8')"
      ]
     },
     "execution_count": 5,
     "metadata": {},
     "output_type": "execute_result"
    }
   ],
   "source": [
    "myarr.dtype"
   ]
  },
  {
   "cell_type": "code",
   "execution_count": 6,
   "id": "93b35011-188e-4ee2-9af7-6c161a85412a",
   "metadata": {},
   "outputs": [],
   "source": [
    "myarr[0]=45"
   ]
  },
  {
   "cell_type": "code",
   "execution_count": 7,
   "id": "1efcd0c3-6841-4fd7-8303-36944dac29c6",
   "metadata": {},
   "outputs": [
    {
     "data": {
      "text/plain": [
       "array([45,  3,  5,  6], dtype=int8)"
      ]
     },
     "execution_count": 7,
     "metadata": {},
     "output_type": "execute_result"
    }
   ],
   "source": [
    "myarr"
   ]
  },
  {
   "cell_type": "code",
   "execution_count": 8,
   "id": "07c5a2b5-6b52-4388-bb2c-1e82ff82675a",
   "metadata": {},
   "outputs": [],
   "source": [
    "myarr[3]=60"
   ]
  },
  {
   "cell_type": "code",
   "execution_count": 9,
   "id": "09f83911-e65c-49e5-af0d-b2c15d6b7876",
   "metadata": {},
   "outputs": [
    {
     "data": {
      "text/plain": [
       "array([45,  3,  5, 60], dtype=int8)"
      ]
     },
     "execution_count": 9,
     "metadata": {},
     "output_type": "execute_result"
    }
   ],
   "source": [
    "myarr"
   ]
  },
  {
   "cell_type": "code",
   "execution_count": 10,
   "id": "ba0d364c-2b3c-4964-99e4-9736fe12a53b",
   "metadata": {},
   "outputs": [],
   "source": [
    "i=89"
   ]
  },
  {
   "cell_type": "code",
   "execution_count": 11,
   "id": "1ada18dc-4a2f-4142-b93f-ca9a1ced5de3",
   "metadata": {},
   "outputs": [
    {
     "data": {
      "text/plain": [
       "89"
      ]
     },
     "execution_count": 11,
     "metadata": {},
     "output_type": "execute_result"
    }
   ],
   "source": [
    "i"
   ]
  },
  {
   "cell_type": "markdown",
   "id": "eb8cba7d-9774-4149-92c6-acc9a2f5162e",
   "metadata": {},
   "source": [
    "# Array Creation : Conversion from other python structure"
   ]
  },
  {
   "cell_type": "code",
   "execution_count": 12,
   "id": "08586083-d008-49d7-b54f-25fa22e4e703",
   "metadata": {},
   "outputs": [],
   "source": [
    "arr = np.array([[1,2,3],[4,5,6],[7,1,0]])\n"
   ]
  },
  {
   "cell_type": "code",
   "execution_count": 13,
   "id": "fbfb2592-0241-4b6a-bf5f-82d8f78b218b",
   "metadata": {},
   "outputs": [
    {
     "data": {
      "text/plain": [
       "array([[1, 2, 3],\n",
       "       [4, 5, 6],\n",
       "       [7, 1, 0]])"
      ]
     },
     "execution_count": 13,
     "metadata": {},
     "output_type": "execute_result"
    }
   ],
   "source": [
    "arr"
   ]
  },
  {
   "cell_type": "code",
   "execution_count": 14,
   "id": "27796373-2e65-4d2f-90d4-909c45198a18",
   "metadata": {},
   "outputs": [
    {
     "data": {
      "text/plain": [
       "array([[0, 1, 2],\n",
       "       [0, 1, 2],\n",
       "       [2, 1, 0]])"
      ]
     },
     "execution_count": 14,
     "metadata": {},
     "output_type": "execute_result"
    }
   ],
   "source": [
    "arr.argsort()"
   ]
  },
  {
   "cell_type": "code",
   "execution_count": 15,
   "id": "313a7593-6852-47f7-92c0-872f232defeb",
   "metadata": {},
   "outputs": [
    {
     "data": {
      "text/plain": [
       "array([[0, 2, 2],\n",
       "       [1, 0, 0],\n",
       "       [2, 1, 1]])"
      ]
     },
     "execution_count": 15,
     "metadata": {},
     "output_type": "execute_result"
    }
   ],
   "source": [
    "arr.argsort(axis=0)"
   ]
  },
  {
   "cell_type": "code",
   "execution_count": 16,
   "id": "28738832-b928-4653-bc70-c7cfbe67babd",
   "metadata": {},
   "outputs": [
    {
     "data": {
      "text/plain": [
       "np.int64(6)"
      ]
     },
     "execution_count": 16,
     "metadata": {},
     "output_type": "execute_result"
    }
   ],
   "source": [
    "arr.argmax()"
   ]
  },
  {
   "cell_type": "code",
   "execution_count": 17,
   "id": "a96e3107-c8c0-4643-80a8-48adfbd3a6fd",
   "metadata": {},
   "outputs": [
    {
     "data": {
      "text/plain": [
       "np.int64(7)"
      ]
     },
     "execution_count": 17,
     "metadata": {},
     "output_type": "execute_result"
    }
   ],
   "source": [
    "arr.max()\n"
   ]
  },
  {
   "cell_type": "code",
   "execution_count": null,
   "id": "c10280d4-41bb-4450-9870-752c0942b577",
   "metadata": {},
   "outputs": [],
   "source": []
  }
 ],
 "metadata": {
  "kernelspec": {
   "display_name": "Python 3 (ipykernel)",
   "language": "python",
   "name": "python3"
  },
  "language_info": {
   "codemirror_mode": {
    "name": "ipython",
    "version": 3
   },
   "file_extension": ".py",
   "mimetype": "text/x-python",
   "name": "python",
   "nbconvert_exporter": "python",
   "pygments_lexer": "ipython3",
   "version": "3.12.4"
  }
 },
 "nbformat": 4,
 "nbformat_minor": 5
}
